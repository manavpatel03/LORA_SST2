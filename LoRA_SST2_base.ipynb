{
  "nbformat": 4,
  "nbformat_minor": 0,
  "metadata": {
    "colab": {
      "provenance": []
    },
    "kernelspec": {
      "name": "python3",
      "display_name": "Python 3"
    },
    "language_info": {
      "name": "python"
    }
  },
  "cells": [
    {
      "cell_type": "code",
      "execution_count": 46,
      "metadata": {
        "colab": {
          "base_uri": "https://localhost:8080/"
        },
        "id": "wnEzINGYv2EQ",
        "outputId": "8e99df80-1b71-4df8-a502-4d9cd2f43e5f"
      },
      "outputs": [
        {
          "output_type": "stream",
          "name": "stdout",
          "text": [
            "Requirement already satisfied: datasets in /usr/local/lib/python3.10/dist-packages (2.16.1)\n",
            "Requirement already satisfied: transformers in /usr/local/lib/python3.10/dist-packages (4.35.2)\n",
            "Requirement already satisfied: loralib in /usr/local/lib/python3.10/dist-packages (0.1.2)\n",
            "Requirement already satisfied: filelock in /usr/local/lib/python3.10/dist-packages (from datasets) (3.13.1)\n",
            "Requirement already satisfied: numpy>=1.17 in /usr/local/lib/python3.10/dist-packages (from datasets) (1.23.5)\n",
            "Requirement already satisfied: pyarrow>=8.0.0 in /usr/local/lib/python3.10/dist-packages (from datasets) (10.0.1)\n",
            "Requirement already satisfied: pyarrow-hotfix in /usr/local/lib/python3.10/dist-packages (from datasets) (0.6)\n",
            "Requirement already satisfied: dill<0.3.8,>=0.3.0 in /usr/local/lib/python3.10/dist-packages (from datasets) (0.3.7)\n",
            "Requirement already satisfied: pandas in /usr/local/lib/python3.10/dist-packages (from datasets) (1.5.3)\n",
            "Requirement already satisfied: requests>=2.19.0 in /usr/local/lib/python3.10/dist-packages (from datasets) (2.31.0)\n",
            "Requirement already satisfied: tqdm>=4.62.1 in /usr/local/lib/python3.10/dist-packages (from datasets) (4.66.1)\n",
            "Requirement already satisfied: xxhash in /usr/local/lib/python3.10/dist-packages (from datasets) (3.4.1)\n",
            "Requirement already satisfied: multiprocess in /usr/local/lib/python3.10/dist-packages (from datasets) (0.70.15)\n",
            "Requirement already satisfied: fsspec[http]<=2023.10.0,>=2023.1.0 in /usr/local/lib/python3.10/dist-packages (from datasets) (2023.6.0)\n",
            "Requirement already satisfied: aiohttp in /usr/local/lib/python3.10/dist-packages (from datasets) (3.9.1)\n",
            "Requirement already satisfied: huggingface-hub>=0.19.4 in /usr/local/lib/python3.10/dist-packages (from datasets) (0.20.1)\n",
            "Requirement already satisfied: packaging in /usr/local/lib/python3.10/dist-packages (from datasets) (23.2)\n",
            "Requirement already satisfied: pyyaml>=5.1 in /usr/local/lib/python3.10/dist-packages (from datasets) (6.0.1)\n",
            "Requirement already satisfied: regex!=2019.12.17 in /usr/local/lib/python3.10/dist-packages (from transformers) (2023.6.3)\n",
            "Requirement already satisfied: tokenizers<0.19,>=0.14 in /usr/local/lib/python3.10/dist-packages (from transformers) (0.15.0)\n",
            "Requirement already satisfied: safetensors>=0.3.1 in /usr/local/lib/python3.10/dist-packages (from transformers) (0.4.1)\n",
            "Requirement already satisfied: attrs>=17.3.0 in /usr/local/lib/python3.10/dist-packages (from aiohttp->datasets) (23.1.0)\n",
            "Requirement already satisfied: multidict<7.0,>=4.5 in /usr/local/lib/python3.10/dist-packages (from aiohttp->datasets) (6.0.4)\n",
            "Requirement already satisfied: yarl<2.0,>=1.0 in /usr/local/lib/python3.10/dist-packages (from aiohttp->datasets) (1.9.4)\n",
            "Requirement already satisfied: frozenlist>=1.1.1 in /usr/local/lib/python3.10/dist-packages (from aiohttp->datasets) (1.4.1)\n",
            "Requirement already satisfied: aiosignal>=1.1.2 in /usr/local/lib/python3.10/dist-packages (from aiohttp->datasets) (1.3.1)\n",
            "Requirement already satisfied: async-timeout<5.0,>=4.0 in /usr/local/lib/python3.10/dist-packages (from aiohttp->datasets) (4.0.3)\n",
            "Requirement already satisfied: typing-extensions>=3.7.4.3 in /usr/local/lib/python3.10/dist-packages (from huggingface-hub>=0.19.4->datasets) (4.5.0)\n",
            "Requirement already satisfied: charset-normalizer<4,>=2 in /usr/local/lib/python3.10/dist-packages (from requests>=2.19.0->datasets) (3.3.2)\n",
            "Requirement already satisfied: idna<4,>=2.5 in /usr/local/lib/python3.10/dist-packages (from requests>=2.19.0->datasets) (3.6)\n",
            "Requirement already satisfied: urllib3<3,>=1.21.1 in /usr/local/lib/python3.10/dist-packages (from requests>=2.19.0->datasets) (2.0.7)\n",
            "Requirement already satisfied: certifi>=2017.4.17 in /usr/local/lib/python3.10/dist-packages (from requests>=2.19.0->datasets) (2023.11.17)\n",
            "Requirement already satisfied: python-dateutil>=2.8.1 in /usr/local/lib/python3.10/dist-packages (from pandas->datasets) (2.8.2)\n",
            "Requirement already satisfied: pytz>=2020.1 in /usr/local/lib/python3.10/dist-packages (from pandas->datasets) (2023.3.post1)\n",
            "Requirement already satisfied: six>=1.5 in /usr/local/lib/python3.10/dist-packages (from python-dateutil>=2.8.1->pandas->datasets) (1.16.0)\n"
          ]
        }
      ],
      "source": [
        "#IMPORT STATEMENTS\n",
        "import numpy as np\n",
        "import pandas as pd\n",
        "import tensorflow as tf\n",
        "import torch\n",
        "import torch.nn as nn\n",
        "import torch.nn.functional as F\n",
        "import torch.optim as optim\n",
        "!pip install datasets transformers loralib\n",
        "import loralib as lora\n",
        "from datasets import load_dataset\n",
        "from transformers import TFAutoModel, AutoTokenizer\n",
        "from torch.utils.data import Dataset, DataLoader"
      ]
    },
    {
      "cell_type": "code",
      "source": [
        "# Load model directly\n",
        "from transformers import AutoTokenizer, AutoModelForMaskedLM\n",
        "\n",
        "tokenizer = AutoTokenizer.from_pretrained(\"bert-base-uncased\")\n",
        "model = TFAutoModel.from_pretrained(\"bert-base-uncased\")\n",
        "dataset = load_dataset(\"sst2\")"
      ],
      "metadata": {
        "colab": {
          "base_uri": "https://localhost:8080/"
        },
        "id": "9VHqocymwKcC",
        "outputId": "56829fac-8f74-4f89-e463-3173cd795054"
      },
      "execution_count": 47,
      "outputs": [
        {
          "output_type": "stream",
          "name": "stderr",
          "text": [
            "/usr/local/lib/python3.10/dist-packages/huggingface_hub/utils/_token.py:72: UserWarning: \n",
            "The secret `HF_TOKEN` does not exist in your Colab secrets.\n",
            "To authenticate with the Hugging Face Hub, create a token in your settings tab (https://huggingface.co/settings/tokens), set it as secret in your Google Colab and restart your session.\n",
            "You will be able to reuse this secret in all of your notebooks.\n",
            "Please note that authentication is recommended but still optional to access public models or datasets.\n",
            "  warnings.warn(\n",
            "Some weights of the PyTorch model were not used when initializing the TF 2.0 model TFBertModel: ['cls.predictions.bias', 'cls.predictions.transform.dense.weight', 'cls.predictions.transform.LayerNorm.weight', 'cls.seq_relationship.bias', 'cls.predictions.transform.LayerNorm.bias', 'cls.predictions.transform.dense.bias', 'cls.seq_relationship.weight']\n",
            "- This IS expected if you are initializing TFBertModel from a PyTorch model trained on another task or with another architecture (e.g. initializing a TFBertForSequenceClassification model from a BertForPreTraining model).\n",
            "- This IS NOT expected if you are initializing TFBertModel from a PyTorch model that you expect to be exactly identical (e.g. initializing a TFBertForSequenceClassification model from a BertForSequenceClassification model).\n",
            "All the weights of TFBertModel were initialized from the PyTorch model.\n",
            "If your task is similar to the task the model of the checkpoint was trained on, you can already use TFBertModel for predictions without further training.\n"
          ]
        }
      ]
    },
    {
      "cell_type": "code",
      "source": [
        "#VARS\n",
        "seed_value = 45\n",
        "\n",
        "# 1. Set the seed for NumPy\n",
        "np.random.seed(seed_value)\n",
        "\n",
        "# 2. Set the seed for Python's built-in random module\n",
        "import random\n",
        "random.seed(seed_value)\n",
        "torch.manual_seed(seed_value)\n",
        "# 3. Set the seed for TensorFlow\n",
        "tf.random.set_seed(seed_value)\n",
        "rank = 128\n",
        "BATCH_SIZE = 512\n",
        "feature_size = 66  # BERT embedding size\n",
        "output_size = 128\n",
        "num_epoch = 3"
      ],
      "metadata": {
        "id": "dJC8kUQIwdLq"
      },
      "execution_count": 48,
      "outputs": []
    },
    {
      "cell_type": "code",
      "source": [
        "#FUNCTIONS\n",
        "\n",
        "def tokenization(example, max_length=66):\n",
        "    return tokenizer(\n",
        "        example[\"sentence\"],\n",
        "        truncation=True,\n",
        "        padding='max_length',  # or 'do_not_pad'\n",
        "        return_tensors='pt',\n",
        "        max_length=max_length\n",
        "    )\n",
        "\n",
        "def order(inp):\n",
        "    '''\n",
        "    This function will group all the inputs of BERT\n",
        "    into a single dictionary and then output it with\n",
        "    labels.\n",
        "    '''\n",
        "    data = list(inp.values())\n",
        "    return {\n",
        "        'input_ids': data[1],\n",
        "        'attention_mask': data[2],\n",
        "        'token_type_ids': data[3]\n",
        "    }, data[0]"
      ],
      "metadata": {
        "id": "kPLQ60Bzwe1Q"
      },
      "execution_count": 49,
      "outputs": []
    },
    {
      "cell_type": "code",
      "source": [
        "tokenized_train = dataset['train'].map(tokenization, batched = True)\n",
        "tokenized_train.set_format('tf',\n",
        "                            columns=['input_ids', 'attention_mask', 'token_type_ids', 'label'])\n",
        "\n",
        "tokenized_train = tf.data.Dataset.from_tensor_slices(tokenized_train[:])\n",
        "tokenized_train = tokenized_train.batch(BATCH_SIZE).shuffle(1000)\n",
        "tokenized_train = tokenized_train.map(order, num_parallel_calls=tf.data.AUTOTUNE)\n",
        "# # model(tokenized_train)\n",
        "# exe = tokenizer(dataset['train']['sentence'],padding=True,truncation=True,max_length = 512,return_tensors='pt')\n",
        "# # exe['']"
      ],
      "metadata": {
        "id": "7kSXErIvyGQ9"
      },
      "execution_count": 50,
      "outputs": []
    },
    {
      "cell_type": "code",
      "source": [
        "A = tf.Variable(tf.random.normal(shape=(feature_size, rank), stddev=0.01))\n",
        "B = tf.Variable(tf.random.normal(shape=(rank, output_size), stddev=0.01))\n",
        "\n",
        "# Define the LoRA model\n",
        "class LoRAModel(nn.Module):\n",
        "    def __init__(self, bert_model,rank):\n",
        "        super(LoRAModel, self).__init__()\n",
        "        # # Define your layers here\n",
        "        # self.B = nn.Parameter(torch.zeros((66,rank)))\n",
        "        # self.A = nn.Parameter(torch.zeros((rank,128)))\n",
        "        # nn.init.normal_(self.A, mean=0, std=1)\n",
        "        # self.B = nn.Parameter(torch.randn((66, rank)) * 0.01)\n",
        "        # self.A = nn.Parameter(torch.randn((rank, 128)) * 0.01)\n",
        "        self.lora_layer = lora.Linear(66, 728, r=rank)\n",
        "        # self.layer1 = nn.Linear(in_features=64, out_features=rank)\n",
        "        # self.layer2 = nn.Linear(in_features=rank, out_features=128)\n",
        "        self.layer1 = nn.Linear(728,2)\n",
        "        self.bert = bert_model\n",
        "        self.bert.bert._trainable = False\n",
        "        self.const = 1\n",
        "        # self.batch_norm = nn.BatchNorm1d(output_size)\n",
        "\n",
        "    def forward(self, x):\n",
        "        # Forward pass\n",
        "        # AB = torch.matmul(self.B, self.A)\n",
        "        # print(AB)\n",
        "        # x1 = torch.matmul(torch.from_numpy((x['input_ids']).numpy()).float(),AB)\n",
        "        x1 = self.lora_layer(torch.from_numpy((x['input_ids']).numpy()).float())\n",
        "        mean_x1 = x1.mean(dim=1, keepdim=True)\n",
        "        std_x1 = x1.std(dim=1, keepdim=True)\n",
        "        x1 = (x1 - mean_x1) / (std_x1 + 1e-8)  # Adding a small epsilon for numerical stability\n",
        "        model_soln = torch.from_numpy(self.bert(x)[1].numpy())\n",
        "        mean_model = model_soln.mean(dim=1, keepdim=True)\n",
        "        std_model = model_soln.std(dim=1, keepdim=True)\n",
        "        model_soln = (model_soln - mean_model)/(std_model + 1e-8)\n",
        "        # print(x1)\n",
        "        # x2 = self.layer2(x1)\n",
        "        x_final = model_soln + x1*self.const\n",
        "        # x_final = self.batch_norm(x_final)\n",
        "        x3 = self.layer1(x_final)\n",
        "        # print(x1)\n",
        "        x3 = torch.exp(x3)\n",
        "        my_sum = torch.sum(x3,dim=1, keepdim=True)\n",
        "        return x3/my_sum"
      ],
      "metadata": {
        "id": "vrcVdfbGG3AK"
      },
      "execution_count": 51,
      "outputs": []
    },
    {
      "cell_type": "code",
      "source": [
        "model.bert._trainable = False\n",
        "exe = tokenizer(['Hello world', 'Hi how are you'], padding=True, truncation=True,max_length = 66,\n",
        "                  return_tensors='tf')\n",
        "LORA_model = LoRAModel(model,rank)\n",
        "safe = LORA_model.bert(exe) #for future assert\n",
        "criterion = nn.CrossEntropyLoss()\n",
        "optimizer = optim.Adam(LORA_model.parameters(), lr=2e-2)\n"
      ],
      "metadata": {
        "id": "Ju5lijUp-Vj4"
      },
      "execution_count": 52,
      "outputs": []
    },
    {
      "cell_type": "code",
      "source": [],
      "metadata": {
        "id": "U46ONz9ZG--f"
      },
      "execution_count": 52,
      "outputs": []
    },
    {
      "cell_type": "markdown",
      "source": [],
      "metadata": {
        "id": "qU7fv2V9ZXzg"
      }
    },
    {
      "cell_type": "code",
      "source": [
        "LORA_model.train()\n",
        "for epoch in range(num_epoch):\n",
        "    itr = 0\n",
        "    for batch in tokenized_train:\n",
        "      sz = np.shape(batch[1])[0]\n",
        "      label_arr = np.zeros((sz, 2))\n",
        "      label_arr[np.arange(sz), batch[1]] = 1\n",
        "      label_arr = torch.from_numpy(label_arr)\n",
        "      optimizer.zero_grad()\n",
        "      outputs = LORA_model.forward(batch[0])\n",
        "      loss = criterion(outputs, label_arr)\n",
        "      # print(outputs)\n",
        "      loss.backward()\n",
        "      # torch.nn.utils.clip_grad_norm_(LORA_model.A, max_norm=1.0)\n",
        "      # torch.nn.utils.clip_grad_norm_(LORA_model.B, max_norm=1.0)\n",
        "      optimizer.step()\n",
        "      # for name, param in LORA_model.named_parameters():\n",
        "      #   if torch.isnan(param).any():\n",
        "      #     print(f'NaN found in parameter: {name}')\n",
        "      itr += 1\n",
        "      if(itr % 10 == 0):\n",
        "        print(f'Epoch [{epoch + 1}/{num_epoch}], Loss: {loss.item()}')"
      ],
      "metadata": {
        "colab": {
          "base_uri": "https://localhost:8080/",
          "height": 366
        },
        "id": "JtLp6ggS_0-B",
        "outputId": "4bc4fd9d-4662-4037-bd0c-52a6feac17c7"
      },
      "execution_count": 53,
      "outputs": [
        {
          "output_type": "error",
          "ename": "RuntimeError",
          "evalue": "ignored",
          "traceback": [
            "\u001b[0;31m---------------------------------------------------------------------------\u001b[0m",
            "\u001b[0;31mRuntimeError\u001b[0m                              Traceback (most recent call last)",
            "\u001b[0;32m<ipython-input-53-16f132c9c38f>\u001b[0m in \u001b[0;36m<cell line: 2>\u001b[0;34m()\u001b[0m\n\u001b[1;32m      8\u001b[0m       \u001b[0mlabel_arr\u001b[0m \u001b[0;34m=\u001b[0m \u001b[0mtorch\u001b[0m\u001b[0;34m.\u001b[0m\u001b[0mfrom_numpy\u001b[0m\u001b[0;34m(\u001b[0m\u001b[0mlabel_arr\u001b[0m\u001b[0;34m)\u001b[0m\u001b[0;34m\u001b[0m\u001b[0;34m\u001b[0m\u001b[0m\n\u001b[1;32m      9\u001b[0m       \u001b[0moptimizer\u001b[0m\u001b[0;34m.\u001b[0m\u001b[0mzero_grad\u001b[0m\u001b[0;34m(\u001b[0m\u001b[0;34m)\u001b[0m\u001b[0;34m\u001b[0m\u001b[0;34m\u001b[0m\u001b[0m\n\u001b[0;32m---> 10\u001b[0;31m       \u001b[0moutputs\u001b[0m \u001b[0;34m=\u001b[0m \u001b[0mLORA_model\u001b[0m\u001b[0;34m.\u001b[0m\u001b[0mforward\u001b[0m\u001b[0;34m(\u001b[0m\u001b[0mbatch\u001b[0m\u001b[0;34m[\u001b[0m\u001b[0;36m0\u001b[0m\u001b[0;34m]\u001b[0m\u001b[0;34m)\u001b[0m\u001b[0;34m\u001b[0m\u001b[0;34m\u001b[0m\u001b[0m\n\u001b[0m\u001b[1;32m     11\u001b[0m       \u001b[0mloss\u001b[0m \u001b[0;34m=\u001b[0m \u001b[0mcriterion\u001b[0m\u001b[0;34m(\u001b[0m\u001b[0moutputs\u001b[0m\u001b[0;34m,\u001b[0m \u001b[0mlabel_arr\u001b[0m\u001b[0;34m)\u001b[0m\u001b[0;34m\u001b[0m\u001b[0;34m\u001b[0m\u001b[0m\n\u001b[1;32m     12\u001b[0m       \u001b[0;31m# print(outputs)\u001b[0m\u001b[0;34m\u001b[0m\u001b[0;34m\u001b[0m\u001b[0m\n",
            "\u001b[0;32m<ipython-input-51-7831c81ab8a1>\u001b[0m in \u001b[0;36mforward\u001b[0;34m(self, x)\u001b[0m\n\u001b[1;32m     36\u001b[0m         \u001b[0;31m# print(x1)\u001b[0m\u001b[0;34m\u001b[0m\u001b[0;34m\u001b[0m\u001b[0m\n\u001b[1;32m     37\u001b[0m         \u001b[0;31m# x2 = self.layer2(x1)\u001b[0m\u001b[0;34m\u001b[0m\u001b[0;34m\u001b[0m\u001b[0m\n\u001b[0;32m---> 38\u001b[0;31m         \u001b[0mx_final\u001b[0m \u001b[0;34m=\u001b[0m \u001b[0mmodel_soln\u001b[0m \u001b[0;34m+\u001b[0m \u001b[0mx1\u001b[0m\u001b[0;34m*\u001b[0m\u001b[0mself\u001b[0m\u001b[0;34m.\u001b[0m\u001b[0mconst\u001b[0m\u001b[0;34m\u001b[0m\u001b[0;34m\u001b[0m\u001b[0m\n\u001b[0m\u001b[1;32m     39\u001b[0m         \u001b[0;31m# x_final = self.batch_norm(x_final)\u001b[0m\u001b[0;34m\u001b[0m\u001b[0;34m\u001b[0m\u001b[0m\n\u001b[1;32m     40\u001b[0m         \u001b[0mx3\u001b[0m \u001b[0;34m=\u001b[0m \u001b[0mself\u001b[0m\u001b[0;34m.\u001b[0m\u001b[0mlayer1\u001b[0m\u001b[0;34m(\u001b[0m\u001b[0mx_final\u001b[0m\u001b[0;34m)\u001b[0m\u001b[0;34m\u001b[0m\u001b[0;34m\u001b[0m\u001b[0m\n",
            "\u001b[0;31mRuntimeError\u001b[0m: The size of tensor a (768) must match the size of tensor b (728) at non-singleton dimension 1"
          ]
        }
      ]
    },
    {
      "cell_type": "code",
      "source": [
        "tokenized_test = dataset['validation'].map(tokenization, batched = True)\n",
        "tokenized_test.set_format('tf',\n",
        "                            columns=['input_ids', 'attention_mask', 'token_type_ids', 'label'])\n",
        "\n",
        "tokenized_test = tf.data.Dataset.from_tensor_slices(tokenized_test[:])\n",
        "tokenized_test = tokenized_test.batch(BATCH_SIZE).shuffle(1000)\n",
        "tokenized_test = tokenized_test.map(order, num_parallel_calls=tf.data.AUTOTUNE)\n",
        "LORA_model.eval()  # Set the model to evaluation mode\n",
        "total_correct = 0\n",
        "total_samples = 0\n",
        "\n",
        "with torch.no_grad():  # Disable gradient computation during testing\n",
        "    for batch in tokenized_test:\n",
        "        soln = batch[1].numpy()\n",
        "        outputs = LORA_model(batch[0])\n",
        "        ans = np.zeros_like(soln)\n",
        "        for i in range(np.shape(soln)[0]):\n",
        "          if(outputs[i][0] < outputs[i][1]):\n",
        "            ans[i] = 1\n",
        "        for i in range(np.shape(soln)[0]):\n",
        "          if(ans[i] == soln[i]):\n",
        "            total_correct += 1\n",
        "          total_samples += 1\n",
        "\n",
        "accuracy = total_correct / total_samples\n",
        "print(f'Test Accuracy: {accuracy * 100:.2f}%')\n"
      ],
      "metadata": {
        "id": "4ny17E9YIi9Q"
      },
      "execution_count": null,
      "outputs": []
    },
    {
      "cell_type": "code",
      "source": [
        "trainable_params_count = 0\n",
        "\n",
        "# Assuming model.x() returns a list of trainable weights\n",
        "for weight_tensor in model.weights:\n",
        "    trainable_params_count += tf.reduce_prod(tf.shape(weight_tensor)).numpy()\n",
        "\n",
        "print(f\"Number of trainable parameters: {trainable_params_count}\")\n",
        "num_params = trainable_params_count + 728 * 2\n",
        "\n",
        "print(f\"Number of trainable parameters in BERT model for classification: {num_params}\")\n",
        "\n",
        "LORA_params = 66 * rank + rank * 728 + 728 * 2\n",
        "\n",
        "print(f\"Number of trainable parameters in LoRA implemented model for classification: {LORA_params}\")\n",
        "\n",
        "percent = (LORA_params/num_params) * 100\n",
        "\n",
        "print(f\"Percentage: {percent:.2f}\")\n"
      ],
      "metadata": {
        "id": "Z1Y7ynsR644J"
      },
      "execution_count": null,
      "outputs": []
    },
    {
      "cell_type": "code",
      "source": [
        "# exe = tokenizer([\"Hello World I hope you are good\"],padding=True,truncation=True,max_length = 512,return_tensors='tf')\n",
        "# LORA_model = LoRAModel(model,rank)\n",
        "# safe = LORA_model.bert(exe) #for future assert\n",
        "# dir(safe)"
      ],
      "metadata": {
        "id": "fm0JcD_HaeZ9"
      },
      "execution_count": null,
      "outputs": []
    },
    {
      "cell_type": "code",
      "source": [],
      "metadata": {
        "id": "4PNI5ePY8yp9"
      },
      "execution_count": null,
      "outputs": []
    }
  ]
}